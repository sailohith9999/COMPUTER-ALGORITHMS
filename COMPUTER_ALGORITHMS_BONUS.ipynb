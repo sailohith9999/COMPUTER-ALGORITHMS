{
  "nbformat": 4,
  "nbformat_minor": 0,
  "metadata": {
    "colab": {
      "provenance": []
    },
    "kernelspec": {
      "name": "python3",
      "display_name": "Python 3"
    },
    "language_info": {
      "name": "python"
    }
  },
  "cells": [
    {
      "cell_type": "code",
      "source": [
        "import heapq\n",
        "from collections import defaultdict\n",
        "class HuffmanNode:\n",
        "    def __init__(self, char, freq):\n",
        "        self.char = char\n",
        "        self.freq = freq\n",
        "        self.left = None\n",
        "        self.right = None\n",
        "    def __lt__(self, other):\n",
        "        if self.freq == other.freq:\n",
        "            if self.char is not None and other.char is not None:\n",
        "                return self.char < other.char\n",
        "            return False\n",
        "        return self.freq < other.freq\n",
        "def get_input():\n",
        "    input_string = input(\"Enter character-frequency pairs (e.g., 'a 3 b 5 c 2'): \")\n",
        "    freq_dict = defaultdict(int)\n",
        "    tokens = input_string.split()\n",
        "    for i in range(0, len(tokens), 2):\n",
        "        char = tokens[i].lower()\n",
        "        freq = int(tokens[i+1])\n",
        "        freq_dict[char] += freq\n",
        "\n",
        "    return freq_dict\n",
        "def build_huffman_tree(frequencies):\n",
        "    heap = [HuffmanNode(char, freq) for char, freq in frequencies.items()]\n",
        "    heapq.heapify(heap)\n",
        "    while len(heap) > 1:\n",
        "        left = heapq.heappop(heap)\n",
        "        right = heapq.heappop(heap)\n",
        "        merged = HuffmanNode(None, left.freq + right.freq)\n",
        "        merged.left = left\n",
        "        merged.right = right\n",
        "\n",
        "        heapq.heappush(heap, merged)\n",
        "\n",
        "    return heap[0]\n",
        "def generate_codes(node, prefix=\"\", code_dict={}):\n",
        "    if node is not None:\n",
        "        if node.char is not None:\n",
        "            code_dict[node.char] = prefix\n",
        "        generate_codes(node.left, prefix + \"0\", code_dict)\n",
        "        generate_codes(node.right, prefix + \"1\", code_dict)\n",
        "    return code_dict\n",
        "def huffman_coding():\n",
        "    frequencies = get_input()\n",
        "    print(\"\\nCharacter Frequencies:\", dict(frequencies))\n",
        "\n",
        "    root = build_huffman_tree(frequencies)\n",
        "    huffman_codes = generate_codes(root)\n",
        "    print(\"\\nHuffman Codes:\")\n",
        "    for char, code in sorted(huffman_codes.items()):\n",
        "        print(f\"'{char}': {code}\")\n",
        "\n",
        "    return root, huffman_codes\n",
        "huffman_coding()\n"
      ],
      "metadata": {
        "colab": {
          "base_uri": "https://localhost:8080/"
        },
        "id": "UH0jHfDqZu9g",
        "outputId": "41c662b3-7bed-47fc-bcbe-3eafe9dbb132"
      },
      "execution_count": 14,
      "outputs": [
        {
          "output_type": "stream",
          "name": "stdout",
          "text": [
            "Enter character-frequency pairs (e.g., 'a 3 b 5 c 2'): a 4 b 2 c 5 d 7 e 9\n",
            "\n",
            "Character Frequencies: {'a': 4, 'b': 2, 'c': 5, 'd': 7, 'e': 9}\n",
            "\n",
            "Huffman Codes:\n",
            "'a': 011\n",
            "'b': 010\n",
            "'c': 00\n",
            "'d': 10\n",
            "'e': 11\n"
          ]
        },
        {
          "output_type": "execute_result",
          "data": {
            "text/plain": [
              "(<__main__.HuffmanNode at 0x7856f46f81f0>,\n",
              " {'c': '00', 'b': '010', 'a': '011', 'd': '10', 'e': '11'})"
            ]
          },
          "metadata": {},
          "execution_count": 14
        }
      ]
    },
    {
      "cell_type": "code",
      "source": [],
      "metadata": {
        "id": "Prn-D2q9aOnH"
      },
      "execution_count": null,
      "outputs": []
    }
  ]
}